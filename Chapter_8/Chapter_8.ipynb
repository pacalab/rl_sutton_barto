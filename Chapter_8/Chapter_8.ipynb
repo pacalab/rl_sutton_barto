{
 "cells": [
  {
   "cell_type": "markdown",
   "metadata": {},
   "source": [
    "# Chapter 8 - Generalization and Function Approximation\n",
    "\n",
    "This chapter explores methods to use RL beyond the simple environments presented so far, in situations where the state space, the action space or both are larger (or infinite) and cannot be represented effectively by the tabular framework."
   ]
  },
  {
   "cell_type": "markdown",
   "metadata": {},
   "source": [
    "### Exercise 8.1\n",
    "\n",
    "Show that table-lookup TD($\\lambda$) is a special case of general TD($\\lambda$) as given by equations (8.5 - 8.7).\n",
    "\n",
    "__Answer__: We can represent the tabular setup by using a simple vector $\\theta \\in \\mathbb{R}^{\\lvert \\mathcal{S} \\rvert}$, such that $V_t(s_k) = \\theta_t(k)$. The $\\delta_t$ remains defined identically and the eligibility trace is now a vector of dimension ${\\lvert \\mathcal{S} \\rvert}$, containing the traces for all states $s \\in \\mathcal{S}$. From the definition of $V$, the gradient of $V_t(s_k)$ w.r.t $\\theta$ is a vector of zeros on all positions except in position $k$ where it is $1$.\n",
    "\n",
    "Therefore, the update of $V$ after each step is replaced with identical results by simply updating the vector $\\theta$ according to equation (8.5), for all steps at once. So the general TD($\\lambda$) can easily represent a tabular TD($\\lambda$) with this simple convention."
   ]
  }
 ],
 "metadata": {
  "language_info": {
   "name": "python"
  }
 },
 "nbformat": 4,
 "nbformat_minor": 2
}
