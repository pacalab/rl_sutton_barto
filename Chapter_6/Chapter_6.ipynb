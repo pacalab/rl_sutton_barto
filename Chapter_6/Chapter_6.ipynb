{
 "cells": [
  {
   "cell_type": "markdown",
   "metadata": {},
   "source": [
    "# Chapter 6 - Temporal-Difference Learning\n",
    "This chapter introduces TD learning, which combines ideas from both Monte Carlo methods (Chapter 5) and Dynamic Programming (Chapter 4). Key aspects:\n",
    "\n",
    "- Like MC, it learns from experience (samples of sequences of states, actions and rewards from interacting with an environment or a simulation), not from complete knowledge of the environment.\n",
    "\n",
    "- Like DP, it updates its state- and action-values based partially on other learned estimates, that is it bootstraps."
   ]
  },
  {
   "cell_type": "markdown",
   "metadata": {},
   "source": [
    "### Exercise 6.1\n",
    "\n",
    "Give an example in which TD update would be better on average than an MC update.\n",
    "\n",
    "__Answer__: Following on the hint offered in the problem, if one already has good estimates of $V(s')$ for all $s' \\in \\mathcal{S'} \\subset \\mathcal{S}$, a subspace of $\\mathcal{S}$, the TD update for any $s \\notin \\mathcal{S'}$ would be made immediately after the transition from $s$ to $s'$, like below:\n",
    "\n",
    "$$\n",
    "V^{TD}(s) \\leftarrow V^{TD}(s) + \\alpha \\left[ r + \\gamma V^{TD}(s') - V^{TD}(s) \\right]\n",
    "$$\n",
    "\n",
    "On the other hand, the MC update would be made at the end of the episode, as below:\n",
    "\n",
    "$$\n",
    "V^{MC}(s) \\leftarrow V^{MC}(s) + \\alpha \\left[ R(s) - V^{MC}(s) \\right] = V^{MC}(s) + \\alpha \\left[ r + \\gamma R(s') - V^{MC}(s) \\right] \\text {, where } R(\\cdot) \\text { denotes here a single return from a state.}\n",
    "$$\n",
    "\n",
    "And since we assumed that $V(s')$ is already very good, i.e. $V(s') \\approx \\mathbb{E} [R(s')]$, then we can see how the only difference in the update for $V(s)$ is between using a good approximation of expected returns from next state $s'$, i.e. $V(s')$ in the TD case versus using a single episode's return instead in the MC case, i.e. $R(s')$. We know that in the long term, after many episodes both converge to the expected value of returns, but in the TD case it does so more quickly as it only needs to learn the expected value of $r$ received by transitioning from $s$ to $s'$, not the entire returns from $s$.\n",
    "\n",
    "The better estimate of $V^{TD}(s)$ also becomes available and propagates faster to other states that come ahead of $s$ in the episodes, thus reaching the expected values faster overall for all states, especially the ones that come before those in $\\mathcal{S'}$.\n",
    "\n",
    "Another way to see this situation is by looking at the two estimates as expectations:\n",
    "\n",
    "$$\n",
    "\\begin{aligned}\n",
    "    V^{MC}(s) &= \\mathbb{E} \\left[ R_t \\mid s_t = s \\right] \\\\\n",
    "    V^{TD}(s) &= \\mathbb{E} \\left[ r_{t+1} + \\gamma V^{TD} (s_{t+1}) \\mid s_t = s \\right] \\\\\n",
    "\\end{aligned}\n",
    "$$\n",
    "\n",
    "It is immediately obvious that for an unseen state $s$, the MC estimate will need a large number of (newly) sampled episodes (with their corresponding full returns) to converge to the expected value of $R_t$, while the TD estimate uses the fact that $R_t = r_{t+1} + \\gamma r_{t+2} + \\gamma^2 r_{t+3} + ... $ and that we might already have a good estimate for the return $R_{t'}$ from some later point $t' > t$, which is approximately $V(s_{t'})$. So TD could also be more sample efficient, as we'd only need to generate transitions from $s_t$ to $s_{t'}$ and use the (good) estimate $V(s_{t'})$ from there on."
   ]
  },
  {
   "cell_type": "markdown",
   "metadata": {},
   "source": [
    "### Exercise 6.2\n",
    "\n",
    "From Figure 6.6 it appears that the first episode results in a change only in $V(A)$. What does this tell you about what happened on the first episode? Why was only the estimate for this one state changed? By exactly how much was it changed?\n",
    "\n",
    "__Answer__: The first episode must have ended on the left terminal state, because the value of $V(A)$ was reduced from its original estimate of $0.5$ and the only positive reward is given by finishing on the right terminal. By the definition of any TD update, on this episode only the very last state before terminal has changed its value. For all other states their estimates remain unchanged:\n",
    "\n",
    "$$\n",
    "    V(s) \\leftarrow V(s) + \\alpha \\left[ r + \\gamma V(s') - V(s) \\right] = 0.5 + 0.1 (0 + 1 \\cdot 0.5 - 0.5) = 0.5\n",
    "$$\n",
    "\n",
    "For the last transition, from $A$ to the left terminal ($LT$), the update was:\n",
    "\n",
    "$$\n",
    "    V(A) = V(A) + \\alpha \\left[ r + \\gamma V(LT) - V(A) \\right] = 0.5 + 0.1 (0 + 1 \\cdot 0 - 0.5) = 0.5 - 0.05 = 0.45.\n",
    "$$"
   ]
  },
  {
   "cell_type": "markdown",
   "metadata": {},
   "source": [
    "### Exercise 6.3\n",
    "\n",
    "Do you think that by choosing the step-size parameter $\\alpha$ differently, but still leaving it a constant, either algorithm could have done significantly better than shown in Figure 6.7? Why or why not?\n",
    "\n",
    "__Answer__: In Section 6.2 it is mentioned that the constant-$\\alpha$ update rule is proved to converge in the mean, for any small enough $\\alpha$.\n",
    "We can generalize the update rule for both TD and MC as:\n",
    "\n",
    "$$\n",
    "    V(s) \\leftarrow V(s) + \\alpha \\left[ Target - V(s) \\right] = (1 - \\alpha) V(s) + \\alpha \\cdot Target\n",
    "$$\n",
    "\n",
    "So the new estimate for $V(s)$ could be considered a weighted average between the $Target$ and the old estimate, with weights $\\alpha$ and $1-\\alpha$, respectively, therefore $\\alpha$ should be in $(0, 1)$. Additionally, an intuition would be that the weight for $Target$, i.e. $\\alpha$ should be smaller than $1-\\alpha$, since the value of $Target$ comes from a single state transition (for TD) or a single episode (for MC), hence can introduce high variance. So choosing a small $\\alpha$ means the estimate is conservative, whereas a larger $\\alpha$ leads to chasing the $Target$ faster, with potentially big jumps at least in the first few updates."
   ]
  },
  {
   "cell_type": "markdown",
   "metadata": {},
   "source": [
    "### Exercise 6.4\n",
    "\n",
    "In Figure 6.7, the RMS error of the TD method seems to go down and then up again, particularly at high $\\alpha$'s. What could have caused this? Do you think this always occurs or might it be a function of how the approximate value function was initialized?\n",
    "\n",
    "__Answer__: This is a direct consequence of the TD update formula and the nature of the task. In this case, at every update, the $Target$ is either a $1$ (for a transition to the right terminal state) or a $0$ for all other transitions. Which means that we expect the outcome from each recent constant-$\\alpha$ update to fluctuate continuously around the true values by some function of $\\alpha * Target$. See a similar comment at Figure 6.6.\n",
    "\n",
    "$$\n",
    "    V(s) \\leftarrow V(s) + \\alpha \\left[ Target - V(s) \\right]\n",
    "$$\n",
    "\n",
    "So when $Target = 1$, the estimate grows by $\\alpha \\left[ Target - Estimate \\right]$ and when $Target = 0$, the estimate decreases by $\\alpha \\cdot Estimate$. This fluctuation goes indefinitely, since $\\alpha$ is kept constant.\n",
    "\n",
    "See also Section 6.3 on _batch updating_ and more importantly on the difference between the batch updates for MC which tend to minimize the mean-squared error on the training set, while for TD it converges to the maximum-likelihood estimate of the underlying Markov model. Example 6.4 is useful in understanding this difference!"
   ]
  },
  {
   "cell_type": "markdown",
   "metadata": {},
   "source": [
    "### Exercise 6.5\n",
    "\n",
    "Describe at least two different ways of computing the true values for the random walk task, which are $\\left\\{ A: \\frac{1}{6}, B: \\frac{2}{6}, C: \\frac{3}{6}, D: \\frac{4}{6}, E: \\frac{5}{6} \\right\\}$. Which would you guess we actually used? Why?\n",
    "\n",
    "__Answer__: The first method would be to solve a system of linear equations which we construct in a recursive fashion (similar to DP and TD methods). Let's call the terminal states $TL$ and $TR$, while the value of reaching them is $0$ and $1$ respectively. Since the probability of choosing left or right in every state is $\\frac{1}{2}$, then we have the following system of equations:\n",
    "\n",
    "$$\n",
    "\\begin{aligned}\n",
    "    V(E) &= \\frac{1}{2} V(TR) + \\frac{1}{2} V(D) = \\frac{1}{2} + \\frac{1}{2} V(D) \\\\\n",
    "    V(D) &= \\frac{1}{2} V(E) + \\frac{1}{2} V(C) \\\\\n",
    "    V(C) &= \\frac{1}{2} V(D) + \\frac{1}{2} V(B) \\\\\n",
    "    V(B) &= \\frac{1}{2} V(C) + \\frac{1}{2} V(A) \\\\\n",
    "    V(A) &= \\frac{1}{2} V(B) + \\frac{1}{2} V(TL) = \\frac{1}{2} V(B) + \\frac{1}{2} \\\\\n",
    "\\end{aligned}\n",
    "$$\n",
    "\n",
    "6 simple equations with 6 unknowns, etc. I assume this was the preferred method as it goes in the spirit of the book and was previously used in Example 3.11.\n",
    "\n",
    "A second method could be to consider the symmetries of the environment, and first establish that for every episode starting from $A$ and ending in $TR$ for instance, there exists an exact mirrored episode starting from $E$ and takes the exact opposite moves, thus ending in $TL$. So this means that $V(A) = 1 - V(E)$ and $V(B) = 1 - V(D)$, while obviously $V(C) = \\frac{1}{2}$ as also shown in the book..."
   ]
  },
  {
   "cell_type": "markdown",
   "metadata": {},
   "source": [
    "### Exercise 6.6\n",
    "\n",
    "Solve the Windy Gridworld task with king's moves, with and without a \"zero\" move, i.e. stay still. Solution with on-policy TD control algorithm (SARSA)."
   ]
  },
  {
   "cell_type": "code",
   "execution_count": 1,
   "metadata": {},
   "outputs": [],
   "source": [
    "import numpy as np\n",
    "import matplotlib.pyplot as plt\n",
    "from matplotlib import collections  as mc\n",
    "import random\n",
    "\n",
    "%matplotlib inline"
   ]
  },
  {
   "cell_type": "code",
   "execution_count": 2,
   "metadata": {},
   "outputs": [],
   "source": [
    "class State:\n",
    "    def __init__(self, x, y):\n",
    "        self.x = x\n",
    "        self.y = y\n",
    "\n",
    "    def __eq__(self, other_state):\n",
    "        return isinstance(other_state, self.__class__) and self.x == other_state.x and self.y == other_state.y\n",
    "\n",
    "    def __hash__(self):\n",
    "        return hash((self.__class__, self.x, self.y))\n",
    "\n",
    "    def __str__(self):\n",
    "        return f'({self.x}, {self.y})'\n",
    "\n",
    "\n",
    "class Action:\n",
    "    def __init__(self, x, y):\n",
    "        self.x = x\n",
    "        self.y = y\n",
    "\n",
    "    def __eq__(self, other_action):\n",
    "        return isinstance(other_action, self.__class__) and self.x == other_action.x and self.y == other_action.y\n",
    "\n",
    "    def __hash__(self):\n",
    "        return hash((self.__class__, self.x, self.y))\n",
    "\n",
    "    def __str__(self):\n",
    "        return f'({self.x}, {self.y})'\n",
    "\n",
    "    @property\n",
    "    def is_standard_move(self):\n",
    "        return self.x in [-1, 0, 1] and self.y in [-1, 0, 1] and self.x * self.y == 0 and self.x + self.y != 0\n",
    "\n",
    "    @property\n",
    "    def is_king_move(self):\n",
    "        return self.x in [-1, 0, 1] and self.y in [-1, 0, 1] and (self.x != 0 or self.y != 0)\n",
    "\n",
    "    @property\n",
    "    def is_zero_move(self):\n",
    "        return self.x == 0 and self.y == 0"
   ]
  },
  {
   "cell_type": "code",
   "execution_count": 3,
   "metadata": {},
   "outputs": [],
   "source": [
    "class Policy:\n",
    "    def __init__(self):\n",
    "        self.pi = dict()\n",
    "\n",
    "    def __call__(self, s: State, a: Action = None, explore=True):\n",
    "        if s not in self.pi:\n",
    "            return None\n",
    "        if a is None:\n",
    "            if explore:\n",
    "                # Returns an action selected from the probability\n",
    "                # distribution pi(s) over all legal actions in state s.\n",
    "                return random.choices(list(self.pi[s].keys()), weights=list(self.pi[s].values()))[0] # list of one\n",
    "            else:  # greedy action\n",
    "                p_max = 0.\n",
    "                a_max = None\n",
    "                for a, p in self.pi[s].items():\n",
    "                    if p > p_max:\n",
    "                        p_max = p\n",
    "                        a_max = a\n",
    "                return a_max\n",
    "        # otherwise return the probability of selecting action a in state s\n",
    "        if a not in self.pi[s]:\n",
    "            return None\n",
    "        return self.pi[s][a]\n",
    "\n",
    "    def seen(self, s):\n",
    "        return s in self.pi\n",
    "\n",
    "    def update(self, s, a, p):\n",
    "        if s not in self.pi:\n",
    "            self.pi[s] = dict()\n",
    "        self.pi[s][a] = p\n",
    "\n",
    "\n",
    "class Gridworld:\n",
    "    def __init__(self, nrows, ncols, wind, start, goal, king_moves=False, zero_moves=False, stochastic_wind=False):\n",
    "        assert len(wind) == ncols, 'wind length <> ncols'\n",
    "        self.nrows = nrows\n",
    "        self.ncols = ncols\n",
    "        self.wind = wind\n",
    "        self.stochastic_wind = stochastic_wind\n",
    "        self.king_moves = king_moves\n",
    "        self.zero_moves = zero_moves\n",
    "        self.state = start\n",
    "        self.goal = goal\n",
    "    \n",
    "    @property\n",
    "    def is_terminal(self):\n",
    "        return self.state == self.goal\n",
    "\n",
    "    def legal_moves(self, s: State = None):\n",
    "        if s is None:\n",
    "            s = self.state\n",
    "        if s == self.goal:\n",
    "            return []\n",
    "        A_s = []\n",
    "        for ax in [-1, 0, 1]:\n",
    "            for ay in [-1, 0, 1]:\n",
    "                a = Action(ax, ay)\n",
    "                if self.zero_moves and a.is_zero_move:\n",
    "                    A_s.append(a)\n",
    "                    continue\n",
    "                if self.king_moves and a.is_king_move:\n",
    "                    A_s.append(a)\n",
    "                elif a.is_standard_move:\n",
    "                    A_s.append(a)\n",
    "        return A_s\n",
    "\n",
    "    def step(self, a: Action):\n",
    "        if self.king_moves:\n",
    "            if self.zero_moves:\n",
    "                assert a.is_king_move or a.is_zero_move, 'illegal move'\n",
    "            else:\n",
    "                assert a.is_king_move, 'illegal move'\n",
    "        else:\n",
    "            if self.zero_moves:\n",
    "                assert a.is_standard_move or a.is_zero_move, 'illegal move'\n",
    "            else:\n",
    "                assert a.is_standard_move, 'illegal move'\n",
    "        if self.stochastic_wind:\n",
    "            wind = self.wind[self.state.y] + random.choice([-1, 0, 1])\n",
    "        else:\n",
    "            wind = self.wind[self.state.y]\n",
    "        # move to the next state\n",
    "        new_x = max(min(self.state.x + a.x + wind, self.nrows - 1), 0)\n",
    "        new_y = max(min(self.state.y + a.y, self.ncols - 1), 0)\n",
    "        self.state = State(new_x, new_y)\n",
    "        return (self.state, -1)"
   ]
  },
  {
   "cell_type": "code",
   "execution_count": 4,
   "metadata": {},
   "outputs": [],
   "source": [
    "class StateActionValue:\n",
    "    def __init__(self):\n",
    "        self.Q = dict()\n",
    "\n",
    "    # the value(s) of state s and selecting action a (or all)\n",
    "    def __call__(self, s: State, a: Action = None):\n",
    "        if s not in self.Q:\n",
    "            return None\n",
    "        if a is None:\n",
    "            # value of all actions from s\n",
    "            return self.Q[s]\n",
    "        if a not in self.Q[s]:\n",
    "            return None\n",
    "        return self.Q[s][a]\n",
    "\n",
    "    def update(self, s, a, q):\n",
    "        if s not in self.Q:\n",
    "            self.Q[s] = dict()\n",
    "        self.Q[s][a] = q"
   ]
  },
  {
   "cell_type": "code",
   "execution_count": 5,
   "metadata": {},
   "outputs": [],
   "source": [
    "class OnPolicyTDAgent:\n",
    "    def __init__(self, gamma=1.):\n",
    "        self.gamma = gamma\n",
    "        self.pi = Policy()\n",
    "        self.Q = StateActionValue()\n",
    "\n",
    "    def add_state_to_policy(self, env, s):\n",
    "        if not self.pi.seen(s):\n",
    "            # state has not been seen before,\n",
    "            # add whole action space to policy\n",
    "            # with uniform probability\n",
    "            # also add them to action values\n",
    "            A_s = env.legal_moves(s)\n",
    "            for a in A_s:\n",
    "                self.pi.update(s, a, 1. / len(A_s))\n",
    "                self.Q.update(s, a, 0.)  # optimistic\n",
    "\n",
    "    \"\"\" Generate a single episode for a given environment\n",
    "        starting from whatever state the environment is in.\n",
    "        It goes until terminal state or max_steps was reached.\n",
    "    \"\"\"\n",
    "    def play_episode(\n",
    "            self,\n",
    "            env: Gridworld,\n",
    "            max_steps=1000,  # avoid getting stuck especially when explore=False\n",
    "            train=False,  # whether it updates its policy and Q-values during the episode\n",
    "            explore=True,  # whether to behave greedy or epsilon-greedy\n",
    "            epsilon=0.1,  # epsilon for epsilon-greedy policy updates\n",
    "            alpha=0.1,  # step size for each update of Q-values\n",
    "            keep_trace=False,  # store a list of tuples for all transitions\n",
    "        ):\n",
    "        R = 0.\n",
    "        trace = []\n",
    "        t = 0  # time steps\n",
    "        s = env.state\n",
    "        self.add_state_to_policy(env, s)\n",
    "        a = self.pi(s, explore=explore)  # select action according to policy\n",
    "        while not env.is_terminal and t < max_steps:\n",
    "            next_s, r = env.step(a)\n",
    "            if next_s != env.goal:\n",
    "                self.add_state_to_policy(env, next_s)\n",
    "                next_a = self.pi(next_s, explore=explore)  # next action\n",
    "            R = r + self.gamma * R\n",
    "            if keep_trace:\n",
    "                trace.append((s, a, r, next_s))\n",
    "\n",
    "            # on-policy TD update\n",
    "            if train:\n",
    "                if next_s != env.goal:\n",
    "                    new_q = self.Q(s, a) + alpha * (r + self.gamma * self.Q(next_s, next_a) - self.Q(s, a))\n",
    "                else:\n",
    "                    new_q = self.Q(s, a) + alpha * (r - self.Q(s, a))  # value of terminal state = 0 in this game\n",
    "                # update action values\n",
    "                self.Q.update(s, a, new_q)\n",
    "                # epsilon-greedy policy update\n",
    "                q_max = -999999.\n",
    "                a_max = None\n",
    "                n = len(self.Q(s))\n",
    "                for a, q in self.Q(s).items():\n",
    "                    if q > q_max:\n",
    "                        q_max = q\n",
    "                        a_max = a\n",
    "                    self.pi.update(s, a, epsilon / n)\n",
    "                self.pi.update(s, a_max, 1. - epsilon + epsilon / n)\n",
    "\n",
    "            s = next_s\n",
    "            a = next_a\n",
    "            t += 1\n",
    "        return R, trace\n",
    "\n",
    "    def train_controller(self, episodes=100, stochastic_wind=False, king_moves=False, zero_moves=False):\n",
    "        epsilon = 0.1\n",
    "        alpha = 0.1\n",
    "        R_list = []\n",
    "        for e in range(episodes):\n",
    "            env = Gridworld(\n",
    "                nrows=7,\n",
    "                ncols=10,\n",
    "                wind=[0, 0, 0, 1, 1, 1, 2, 2, 1, 0],\n",
    "                start=State(3, 0),\n",
    "                goal=State(3, 7),\n",
    "                stochastic_wind=stochastic_wind,\n",
    "                king_moves=king_moves,\n",
    "                zero_moves=zero_moves,\n",
    "            )\n",
    "            R, _ = self.play_episode(env=env, train=True, explore=True, epsilon=epsilon, alpha=alpha, keep_trace=False)\n",
    "            R_list.append(R)\n",
    "        return R_list\n",
    "\n",
    "\n",
    "# plot all moves on a given env\n",
    "def plot_trace(env: Gridworld, trace):\n",
    "    fig, ax = plt.subplots(figsize=(5, 5))\n",
    "    x = np.zeros((env.nrows, env.ncols))\n",
    "    path_x = []\n",
    "    path_y = []\n",
    "    for t in trace:\n",
    "        x[t[0].x, t[0].y] = 1\n",
    "        path_x.append(t[0].x + 0.5)\n",
    "        path_y.append(t[0].y + 0.5)\n",
    "        # plot the intended action, usually differs from the actual direction if there's wind\n",
    "        ax.arrow(\n",
    "            x=t[0].y + 0.5, y=t[0].x + 0.5, dx=t[1].y, dy=t[1].x, head_width=0.2,\n",
    "            width=0.02, length_includes_head=True, color='yellow', zorder=2)\n",
    "    x[t[3].x, t[3].y] = 1\n",
    "    path_x.append(t[3].x + 0.5)\n",
    "    path_y.append(t[3].y + 0.5)\n",
    "    ax.pcolormesh(x, edgecolors='black', linewidth=1.5, alpha = 0.5, cmap='coolwarm')\n",
    "    ax.plot(path_y, path_x, color='red', linewidth=7, alpha=0.5, zorder=1)\n",
    "    ax.set_aspect('equal')\n",
    "    plt.show()"
   ]
  },
  {
   "cell_type": "code",
   "execution_count": 6,
   "metadata": {},
   "outputs": [
    {
     "data": {
      "image/png": "[encoded data removed]",
      "text/plain": [
       "<Figure size 432x288 with 1 Axes>"
      ]
     },
     "metadata": {
      "needs_background": "light"
     },
     "output_type": "display_data"
    }
   ],
   "source": [
    "# only standard moves, fixed wind, i.e. reproduce Figure 6.11\n",
    "agent = OnPolicyTDAgent()\n",
    "R_list = agent.train_controller(episodes=8000, stochastic_wind=False, king_moves=False, zero_moves=False)\n",
    "plt.plot(R_list, label='Total Return per episode')\n",
    "plt.xlabel('episodes')\n",
    "plt.ylabel('return')\n",
    "plt.title('Learning: Standard moves, fixed wind')\n",
    "plt.legend()\n",
    "plt.show()"
   ]
  },
  {
   "cell_type": "code",
   "execution_count": 7,
   "metadata": {},
   "outputs": [
    {
     "name": "stdout",
     "output_type": "stream",
     "text": [
      "Total Return: -15.0\n"
     ]
    },
    {
     "data": {
      "image/png": "[encoded data removed]",
      "text/plain": [
       "<Figure size 360x360 with 1 Axes>"
      ]
     },
     "metadata": {
      "needs_background": "light"
     },
     "output_type": "display_data"
    }
   ],
   "source": [
    "env = Gridworld(\n",
    "    nrows=7,\n",
    "    ncols=10,\n",
    "    wind=[0, 0, 0, 1, 1, 1, 2, 2, 1, 0],\n",
    "    start=State(3, 0),\n",
    "    goal=State(3, 7),\n",
    "    stochastic_wind=False,\n",
    "    king_moves=False,\n",
    "    zero_moves=False,\n",
    ")\n",
    "R, trace = agent.play_episode(env, keep_trace=True, explore=False, max_steps=1000)\n",
    "print(f'Total Return: {R}')\n",
    "plot_trace(env, trace)"
   ]
  },
  {
   "cell_type": "code",
   "execution_count": 8,
   "metadata": {},
   "outputs": [
    {
     "data": {
      "image/png": "[encoded data removed]",
      "text/plain": [
       "<Figure size 432x288 with 1 Axes>"
      ]
     },
     "metadata": {
      "needs_background": "light"
     },
     "output_type": "display_data"
    }
   ],
   "source": [
    "# king moves, fixed wind, i.e. Exercise 6.6\n",
    "agent = OnPolicyTDAgent()\n",
    "R_list = agent.train_controller(episodes=8000, stochastic_wind=False, king_moves=True, zero_moves=False)\n",
    "plt.plot(R_list, label='Total Return per episode')\n",
    "plt.xlabel('episodes')\n",
    "plt.ylabel('return')\n",
    "plt.title('Learning: King moves, fixed wind')\n",
    "plt.legend()\n",
    "plt.show()"
   ]
  },
  {
   "cell_type": "code",
   "execution_count": 9,
   "metadata": {},
   "outputs": [
    {
     "name": "stdout",
     "output_type": "stream",
     "text": [
      "Total Return: -7.0\n"
     ]
    },
    {
     "data": {
      "image/png": "[encoded data removed]",
      "text/plain": [
       "<Figure size 360x360 with 1 Axes>"
      ]
     },
     "metadata": {
      "needs_background": "light"
     },
     "output_type": "display_data"
    }
   ],
   "source": [
    "env = Gridworld(\n",
    "    nrows=7,\n",
    "    ncols=10,\n",
    "    wind=[0, 0, 0, 1, 1, 1, 2, 2, 1, 0],\n",
    "    start=State(3, 0),\n",
    "    goal=State(3, 7),\n",
    "    stochastic_wind=False,\n",
    "    king_moves=True,\n",
    "    zero_moves=False,\n",
    ")\n",
    "R, trace = agent.play_episode(env, keep_trace=True, explore=False, max_steps=1000)\n",
    "print(f'Total Return: {R}')\n",
    "plot_trace(env, trace)"
   ]
  },
  {
   "cell_type": "code",
   "execution_count": 10,
   "metadata": {},
   "outputs": [
    {
     "data": {
      "image/png": "[encoded data removed]",
      "text/plain": [
       "<Figure size 432x288 with 1 Axes>"
      ]
     },
     "metadata": {
      "needs_background": "light"
     },
     "output_type": "display_data"
    }
   ],
   "source": [
    "# king moves plus the zero move, fixed wind, i.e. Exercise 6.6, second part\n",
    "agent = OnPolicyTDAgent()\n",
    "R_list = agent.train_controller(episodes=8000, stochastic_wind=False, king_moves=True, zero_moves=True)\n",
    "plt.plot(R_list, label='Total Return per episode')\n",
    "plt.xlabel('episodes')\n",
    "plt.ylabel('return')\n",
    "plt.title('Learning: King moves + zero move, fixed wind')\n",
    "plt.legend()\n",
    "plt.show()"
   ]
  },
  {
   "cell_type": "code",
   "execution_count": 11,
   "metadata": {},
   "outputs": [
    {
     "name": "stdout",
     "output_type": "stream",
     "text": [
      "Total Return: -7.0\n"
     ]
    },
    {
     "data": {
      "image/png": "[encoded data removed]",
      "text/plain": [
       "<Figure size 360x360 with 1 Axes>"
      ]
     },
     "metadata": {
      "needs_background": "light"
     },
     "output_type": "display_data"
    }
   ],
   "source": [
    "env = Gridworld(\n",
    "    nrows=7,\n",
    "    ncols=10,\n",
    "    wind=[0, 0, 0, 1, 1, 1, 2, 2, 1, 0],\n",
    "    start=State(3, 0),\n",
    "    goal=State(3, 7),\n",
    "    stochastic_wind=False,\n",
    "    king_moves=True,\n",
    "    zero_moves=True,\n",
    ")\n",
    "R, trace = agent.play_episode(env, keep_trace=True, explore=False, max_steps=1000)\n",
    "print(f'Total Return: {R}')\n",
    "plot_trace(env, trace)"
   ]
  },
  {
   "cell_type": "markdown",
   "metadata": {},
   "source": [
    "### Exercise 6.7\n",
    "\n",
    "Solve the same problem with stochastic wind. \n",
    "Notice that this problem is much harder to learn, and there is high variance between total returns due to the randomness of the wind strength."
   ]
  },
  {
   "cell_type": "code",
   "execution_count": 12,
   "metadata": {},
   "outputs": [
    {
     "data": {
      "image/png": "[encoded data removed]",
      "text/plain": [
       "<Figure size 432x288 with 1 Axes>"
      ]
     },
     "metadata": {
      "needs_background": "light"
     },
     "output_type": "display_data"
    }
   ],
   "source": [
    "# king moves plus the zero move, stochastic wind, i.e. Exercise 6.7\n",
    "agent = OnPolicyTDAgent()\n",
    "R_list = agent.train_controller(episodes=8000, stochastic_wind=True, king_moves=True, zero_moves=True)\n",
    "plt.plot(R_list, label='Total Return per episode')\n",
    "plt.xlabel('episodes')\n",
    "plt.ylabel('return')\n",
    "plt.title('Learning: King moves + zero move, stochastic wind')\n",
    "plt.legend()\n",
    "plt.show()"
   ]
  },
  {
   "cell_type": "code",
   "execution_count": 15,
   "metadata": {},
   "outputs": [
    {
     "name": "stdout",
     "output_type": "stream",
     "text": [
      "Total Return: -7.0\n"
     ]
    },
    {
     "data": {
      "image/png": "[encoded data removed]",
      "text/plain": [
       "<Figure size 360x360 with 1 Axes>"
      ]
     },
     "metadata": {
      "needs_background": "light"
     },
     "output_type": "display_data"
    }
   ],
   "source": [
    "env = Gridworld(\n",
    "    nrows=7,\n",
    "    ncols=10,\n",
    "    wind=[0, 0, 0, 1, 1, 1, 2, 2, 1, 0],\n",
    "    start=State(3, 0),\n",
    "    goal=State(3, 7),\n",
    "    stochastic_wind=True,\n",
    "    king_moves=True,\n",
    "    zero_moves=True,\n",
    ")\n",
    "R, trace = agent.play_episode(env, keep_trace=True, explore=False, max_steps=1000)\n",
    "print(f'Total Return: {R}')\n",
    "plot_trace(env, trace)"
   ]
  },
  {
   "cell_type": "code",
   "execution_count": 18,
   "metadata": {},
   "outputs": [
    {
     "name": "stdout",
     "output_type": "stream",
     "text": [
      "Total Return: -20.0\n"
     ]
    },
    {
     "data": {
      "image/png": "[encoded data removed]",
      "text/plain": [
       "<Figure size 360x360 with 1 Axes>"
      ]
     },
     "metadata": {
      "needs_background": "light"
     },
     "output_type": "display_data"
    }
   ],
   "source": [
    "# another episode, completely different \n",
    "# return from the same policy\n",
    "env = Gridworld(\n",
    "    nrows=7,\n",
    "    ncols=10,\n",
    "    wind=[0, 0, 0, 1, 1, 1, 2, 2, 1, 0],\n",
    "    start=State(3, 0),\n",
    "    goal=State(3, 7),\n",
    "    stochastic_wind=True,\n",
    "    king_moves=True,\n",
    "    zero_moves=True,\n",
    ")\n",
    "R, trace = agent.play_episode(env, keep_trace=True, explore=False, max_steps=1000)\n",
    "print(f'Total Return: {R}')\n",
    "plot_trace(env, trace)"
   ]
  },
  {
   "cell_type": "markdown",
   "metadata": {},
   "source": [
    "### Exercise 6.8\n",
    "\n",
    "What is the backup diagram for Sarsa?\n",
    "\n",
    "$$\n",
    "\\begin{aligned}\n",
    "    & \\bullet \\text{---------} \\bigcirc \\text{---------} \\bullet \\\\\n",
    "    & (s, a) \\qquad s' \\qquad (s', a') \\\\\n",
    "\\end{aligned}\n",
    "$$"
   ]
  }
 ],
 "metadata": {
  "kernelspec": {
   "display_name": "gi2",
   "language": "python",
   "name": "python3"
  },
  "language_info": {
   "codemirror_mode": {
    "name": "ipython",
    "version": 3
   },
   "file_extension": ".py",
   "mimetype": "text/x-python",
   "name": "python",
   "nbconvert_exporter": "python",
   "pygments_lexer": "ipython3",
   "version": "3.7.3"
  }
 },
 "nbformat": 4,
 "nbformat_minor": 2
}
